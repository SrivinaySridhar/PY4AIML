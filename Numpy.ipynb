{
  "nbformat": 4,
  "nbformat_minor": 0,
  "metadata": {
    "colab": {
      "provenance": [],
      "include_colab_link": true
    },
    "kernelspec": {
      "name": "python3",
      "display_name": "Python 3"
    }
  },
  "cells": [
    {
      "cell_type": "markdown",
      "metadata": {
        "id": "view-in-github",
        "colab_type": "text"
      },
      "source": [
        "<a href=\"https://colab.research.google.com/github/SrivinaySridhar/PY4AIML/blob/main/Numpy.ipynb\" target=\"_parent\"><img src=\"https://colab.research.google.com/assets/colab-badge.svg\" alt=\"Open In Colab\"/></a>"
      ]
    },
    {
      "cell_type": "markdown",
      "metadata": {
        "id": "v02A3rgEQjwF"
      },
      "source": [
        "## Numpy"
      ]
    },
    {
      "cell_type": "markdown",
      "metadata": {
        "id": "b9SVflglRDWk"
      },
      "source": [
        "\n",
        "### Exercise 01: Form an array using np.arange which contains all even numbers. 10 to 30\n"
      ]
    },
    {
      "cell_type": "code",
      "metadata": {
        "id": "l32CNHMX6bH5",
        "colab": {
          "base_uri": "https://localhost:8080/"
        },
        "outputId": "092964d9-7719-49c8-ace9-ca56b7dc3cba"
      },
      "source": [
        "#your code here\n",
        "\n",
        "import numpy as np\n",
        "\n",
        "nums_arr = np.arange(10, 31)\n",
        "even_nums_arr = nums_arr[nums_arr % 2 == 0]\n",
        "print(\"Array containing all even numbers from 10 to 30: \\n\", even_nums_arr)"
      ],
      "execution_count": 2,
      "outputs": [
        {
          "output_type": "stream",
          "name": "stdout",
          "text": [
            "Array containing all even numbers from 10 to 30: \n",
            " [10 12 14 16 18 20 22 24 26 28 30]\n"
          ]
        }
      ]
    },
    {
      "cell_type": "markdown",
      "metadata": {
        "id": "tiTv9pyingiJ"
      },
      "source": [
        "Alternative:"
      ]
    },
    {
      "cell_type": "code",
      "metadata": {
        "id": "z2OIa4YrnfuJ",
        "colab": {
          "base_uri": "https://localhost:8080/"
        },
        "outputId": "ea0fea7e-ae03-4d4e-9ad2-5f6db8448355"
      },
      "source": [
        "even_numb_arr = np.arange(10, 31, 2)\n",
        "print(\"Array containing all even numbers from 10 to 30: \\n\", even_numb_arr)"
      ],
      "execution_count": 3,
      "outputs": [
        {
          "output_type": "stream",
          "name": "stdout",
          "text": [
            "Array containing all even numbers from 10 to 30: \n",
            " [10 12 14 16 18 20 22 24 26 28 30]\n"
          ]
        }
      ]
    },
    {
      "cell_type": "markdown",
      "metadata": {
        "id": "9fMPdoYO_6TX"
      },
      "source": [
        "### Exercise 02: Create an array of evenly spaced numbers upto 24 as one dimentional and reshape it to (2,4,3)"
      ]
    },
    {
      "cell_type": "code",
      "metadata": {
        "id": "dXSX1GNSAFiN",
        "colab": {
          "base_uri": "https://localhost:8080/"
        },
        "outputId": "5a50546f-352a-4dee-8c80-b7977e051d01"
      },
      "source": [
        "#your code here\n",
        "\n",
        "one_dim_arr = np.arange(0, 24)\n",
        "print(\"Reshaped array: \\n\", one_dim_arr.reshape(2,4,3))"
      ],
      "execution_count": 4,
      "outputs": [
        {
          "output_type": "stream",
          "name": "stdout",
          "text": [
            "Reshaped array: \n",
            " [[[ 0  1  2]\n",
            "  [ 3  4  5]\n",
            "  [ 6  7  8]\n",
            "  [ 9 10 11]]\n",
            "\n",
            " [[12 13 14]\n",
            "  [15 16 17]\n",
            "  [18 19 20]\n",
            "  [21 22 23]]]\n"
          ]
        }
      ]
    },
    {
      "cell_type": "markdown",
      "metadata": {
        "id": "TNt1VdKj7r73"
      },
      "source": [
        "### Exercise 03: Get [1, 4, 5] from [[1, 2], [3, 4], [5, 6]] using indexing"
      ]
    },
    {
      "cell_type": "code",
      "metadata": {
        "id": "OaimSeaQ8UaZ",
        "colab": {
          "base_uri": "https://localhost:8080/"
        },
        "outputId": "0e0d5bbe-1e89-4518-e9b2-5607de345179"
      },
      "source": [
        "#your code here\n",
        "\n",
        "given_arr = np.array([[1,2], [3,4], [5,6]])\n",
        "print(\"Given array: \\n\", given_arr, \"\\n\")\n",
        "to_get = [given_arr[0][0], given_arr[1][1], given_arr[2][0]]\n",
        "print(\"Required values:\", to_get)"
      ],
      "execution_count": 5,
      "outputs": [
        {
          "output_type": "stream",
          "name": "stdout",
          "text": [
            "Given array: \n",
            " [[1 2]\n",
            " [3 4]\n",
            " [5 6]] \n",
            "\n",
            "Required values: [1, 4, 5]\n"
          ]
        }
      ]
    },
    {
      "cell_type": "markdown",
      "metadata": {
        "id": "PFbNeshi8GZD"
      },
      "source": [
        "### Exercise 04: From the given array [[ 0, 1, 2],[ 3, 4, 5],[ 6, 7, 8],[ 9, 10, 11]] form an array containing elements greater than 5"
      ]
    },
    {
      "cell_type": "code",
      "metadata": {
        "id": "OjN9QYQh8YHR",
        "colab": {
          "base_uri": "https://localhost:8080/"
        },
        "outputId": "5c6a1589-5055-418e-9e66-ef9f07bfbe2e"
      },
      "source": [
        "#your code here\n",
        "\n",
        "given_array = np.array([[0, 1, 2], [3, 4, 5], [6, 7, 8], [9, 10, 11]])\n",
        "print(\"Given array: \\n\", given_array, \"\\n\")\n",
        "five_up = given_array[given_array > 5]\n",
        "print(\"Array containing elements greater than 5: \\n\", five_up)"
      ],
      "execution_count": 6,
      "outputs": [
        {
          "output_type": "stream",
          "name": "stdout",
          "text": [
            "Given array: \n",
            " [[ 0  1  2]\n",
            " [ 3  4  5]\n",
            " [ 6  7  8]\n",
            " [ 9 10 11]] \n",
            "\n",
            "Array containing elements greater than 5: \n",
            " [ 6  7  8  9 10 11]\n"
          ]
        }
      ]
    },
    {
      "cell_type": "markdown",
      "metadata": {
        "id": "xSRBJNdV8ipU"
      },
      "source": [
        "### Exercise 05: Add given two arrays [[ 0.0, 0.0, 0.0],[10.0,10.0,10.0], [20.0,20.0,20.0],[30.0,30.0,30.0]] and [1.0,2.0,3.0]"
      ]
    },
    {
      "cell_type": "code",
      "metadata": {
        "id": "7FE8SmE68p-g",
        "colab": {
          "base_uri": "https://localhost:8080/"
        },
        "outputId": "73db1fe5-690e-4097-ee0f-2fd299be21bb"
      },
      "source": [
        "#your code here\n",
        "\n",
        "given_array1 = np.array([[0.0, 0.0, 0.0], [10.0, 10.0 ,10.0], [20.0, 20.0, 20.0], [30.0, 30.0, 30.0]])\n",
        "given_array2 = np.array([1.0, 2.0, 3.0])\n",
        "sum = given_array1 + given_array2\n",
        "print(\"Sum of the given arrays: \\n\", sum)"
      ],
      "execution_count": 7,
      "outputs": [
        {
          "output_type": "stream",
          "name": "stdout",
          "text": [
            "Sum of the given arrays: \n",
            " [[ 1.  2.  3.]\n",
            " [11. 12. 13.]\n",
            " [21. 22. 23.]\n",
            " [31. 32. 33.]]\n"
          ]
        }
      ]
    },
    {
      "cell_type": "markdown",
      "metadata": {
        "id": "KKd-1aFu8r-q"
      },
      "source": [
        "### Exercise 06: Multiplication of two arrays [1,2,3,4] [10,20,30,40]"
      ]
    },
    {
      "cell_type": "code",
      "metadata": {
        "id": "J99PVyJp83Ov",
        "colab": {
          "base_uri": "https://localhost:8080/"
        },
        "outputId": "2c30b8c6-cf7c-4a06-c536-bfc8d251ac68"
      },
      "source": [
        "#your code here\n",
        "\n",
        "given_arr1 = np.array([1, 2, 3, 4])\n",
        "given_arr2 = np.array([10, 20, 30, 40])\n",
        "product = given_arr1 * given_arr2\n",
        "print(\"Product of the given arrays:\", product)"
      ],
      "execution_count": 8,
      "outputs": [
        {
          "output_type": "stream",
          "name": "stdout",
          "text": [
            "Product of the given arrays: [ 10  40  90 160]\n"
          ]
        }
      ]
    },
    {
      "cell_type": "markdown",
      "metadata": {
        "id": "uGPHkwjo85JM"
      },
      "source": [
        "### Exercise 07: Transpose the given array [[0,1,2,3] [4,5,6,7] [8,9,10,11]]"
      ]
    },
    {
      "cell_type": "code",
      "metadata": {
        "id": "rY3h_q3t9Fzk",
        "colab": {
          "base_uri": "https://localhost:8080/"
        },
        "outputId": "cf70e743-764b-4411-95c9-e7fbe024c3cb"
      },
      "source": [
        "#your code here\n",
        "\n",
        "given__array = np.array([[0, 1, 2, 3], [4, 5, 6, 7], [8, 9, 10, 11]])\n",
        "print(\"Given array: \\n\", given__array, \"\\n\")\n",
        "transposed_array = given__array.T\n",
        "print(\"Transpose of given array: \\n\", transposed_array)"
      ],
      "execution_count": 9,
      "outputs": [
        {
          "output_type": "stream",
          "name": "stdout",
          "text": [
            "Given array: \n",
            " [[ 0  1  2  3]\n",
            " [ 4  5  6  7]\n",
            " [ 8  9 10 11]] \n",
            "\n",
            "Transpose of given array: \n",
            " [[ 0  4  8]\n",
            " [ 1  5  9]\n",
            " [ 2  6 10]\n",
            " [ 3  7 11]]\n"
          ]
        }
      ]
    },
    {
      "cell_type": "markdown",
      "metadata": {
        "id": "jaTtufJr9Psc"
      },
      "source": [
        "### Exercise 08: Concatenate [[1,2],[3,4]] and [[5,6],[7,8]] using numpy in axis 1"
      ]
    },
    {
      "cell_type": "code",
      "metadata": {
        "id": "BHk5Qzqe9VZZ",
        "colab": {
          "base_uri": "https://localhost:8080/"
        },
        "outputId": "797c5912-c4ef-40c8-e6d3-111111c226cf"
      },
      "source": [
        "#your code here\n",
        "\n",
        "arr1 = np.array([[1, 2], [3, 4]])\n",
        "arr2 = np.array([[5, 6], [7,8]])\n",
        "concatenated_array = np.concatenate((arr1, arr2), axis = 1)\n",
        "print(\"Concatenated array: \\n\", concatenated_array)"
      ],
      "execution_count": 10,
      "outputs": [
        {
          "output_type": "stream",
          "name": "stdout",
          "text": [
            "Concatenated array: \n",
            " [[1 2 5 6]\n",
            " [3 4 7 8]]\n"
          ]
        }
      ]
    },
    {
      "cell_type": "markdown",
      "metadata": {
        "id": "PfL7jA1up23i"
      },
      "source": [
        "Alterative:"
      ]
    },
    {
      "cell_type": "code",
      "metadata": {
        "id": "TBkwQs0Bp3DH",
        "colab": {
          "base_uri": "https://localhost:8080/"
        },
        "outputId": "b3006e2e-ab34-46ea-ee23-b50d6b921e49"
      },
      "source": [
        "arr1 = np.array([[1, 2], [3, 4]])\n",
        "arr2 = np.array([[5, 6], [7,8]])\n",
        "concatenated_array = np.hstack((arr1, arr2))\n",
        "print(\"Concatenated array: \\n\", concatenated_array)"
      ],
      "execution_count": 11,
      "outputs": [
        {
          "output_type": "stream",
          "name": "stdout",
          "text": [
            "Concatenated array: \n",
            " [[1 2 5 6]\n",
            " [3 4 7 8]]\n"
          ]
        }
      ]
    },
    {
      "cell_type": "markdown",
      "metadata": {
        "id": "02HOmDBXzPeg"
      },
      "source": [
        "### Exercise 9: Given a Multidimensional array find the following,\n",
        "\n",
        "\n",
        "1.   get second and third coloum from the given Multidimensional array\n",
        "2.   get second and third row from the given Multidimensional array\n",
        "3.   and reverse the given Multidimensional array\n"
      ]
    },
    {
      "cell_type": "code",
      "metadata": {
        "id": "XruBP0P4zehS",
        "colab": {
          "base_uri": "https://localhost:8080/"
        },
        "outputId": "ff46f591-ca01-4d22-f3f7-da30705b8fa3"
      },
      "source": [
        "import numpy as np\n",
        "array2D = np.array([['a', 'b', 'c'], ['d', 'e', 'f'], ['g', 'h', 'i']])\n",
        "#Your code here\n",
        "\n",
        "answer_1 = array2D[:,1:]\n",
        "print(\"Answer 1: 2nd and 3rd column \\n\", answer_1, \"\\n\")\n",
        "answer_2 = array2D[1:]\n",
        "print(\"Answer 2: 2nd and 3rd row \\n\", answer_2, \"\\n\")\n",
        "answer_3 = np.flip(array2D)\n",
        "print(\"Answer 3: Reversed array \\n\",answer_3)"
      ],
      "execution_count": 12,
      "outputs": [
        {
          "output_type": "stream",
          "name": "stdout",
          "text": [
            "Answer 1: 2nd and 3rd column \n",
            " [['b' 'c']\n",
            " ['e' 'f']\n",
            " ['h' 'i']] \n",
            "\n",
            "Answer 2: 2nd and 3rd row \n",
            " [['d' 'e' 'f']\n",
            " ['g' 'h' 'i']] \n",
            "\n",
            "Answer 3: Reversed array \n",
            " [['i' 'h' 'g']\n",
            " ['f' 'e' 'd']\n",
            " ['c' 'b' 'a']]\n"
          ]
        }
      ]
    },
    {
      "cell_type": "markdown",
      "metadata": {
        "id": "yEp-gRtO3zOa"
      },
      "source": [
        "## Exercise 10: Given a Multidimensional array find the following,\n",
        "\n",
        "\n",
        "1.   What is the average value of the second column\n",
        "2.   Calculate the Mean of the given Multidimensional array\n",
        "\n"
      ]
    },
    {
      "cell_type": "code",
      "metadata": {
        "id": "sPuOB9XpyKKq",
        "colab": {
          "base_uri": "https://localhost:8080/"
        },
        "outputId": "12da1f90-a6fe-4213-e970-7142c414259f"
      },
      "source": [
        "import numpy as np\n",
        "array5D = np.array([[174677, 343356, 301717, 224120, 401101],\n",
        "       [140473, 254634, 112262,  25063, 108262],\n",
        "       [375059, 406983, 208947, 115641, 296685],\n",
        "       [444899, 129585, 171318, 313094, 425041],\n",
        "       [476442,  35455, 191553, 384154,  29917]])\n",
        "#Your code here\n",
        "\n",
        "column_arr = array5D[:,1:2]\n",
        "answer1 = np.average(column_arr)\n",
        "print(\"The average value of the second column is:\", answer1 , \"\\n\")\n",
        "answer2 = np.mean(array5D)\n",
        "print(\"The mean value of the given multidimensional array\", answer2)"
      ],
      "execution_count": 13,
      "outputs": [
        {
          "output_type": "stream",
          "name": "stdout",
          "text": [
            "The average value of the second column is: 234002.6 \n",
            "\n",
            "The mean value of the given multidimensional array 243617.52\n"
          ]
        }
      ]
    },
    {
      "cell_type": "markdown",
      "metadata": {
        "id": "_Q86aJEsXjkQ"
      },
      "source": [
        "### Exercise 11: For the given array, get the slice of the first row and display them."
      ]
    },
    {
      "cell_type": "code",
      "metadata": {
        "id": "EhFU_uj5Xic7",
        "colab": {
          "base_uri": "https://localhost:8080/"
        },
        "outputId": "0d6f9e97-1042-445f-d06b-4f048917219b"
      },
      "source": [
        "array2 = np.array([[[22, 23, 24], [25, 26, 27], [28, 29, 30]],\n",
        "               [[31, 32, 33], [34, 35, 36], [37, 38, 39]],\n",
        "               [[40, 41, 42], [43, 44, 45], [46, 47, 48]]])\n",
        "\n",
        "##your code here\n",
        "\n",
        "firstRow_arr = array2[:,:1]\n",
        "print(\"First row of array2: \\n\", firstRow_arr)"
      ],
      "execution_count": 14,
      "outputs": [
        {
          "output_type": "stream",
          "name": "stdout",
          "text": [
            "First row of array2: \n",
            " [[[22 23 24]]\n",
            "\n",
            " [[31 32 33]]\n",
            "\n",
            " [[40 41 42]]]\n"
          ]
        }
      ]
    },
    {
      "cell_type": "markdown",
      "metadata": {
        "id": "5SxjQaZEM3W3"
      },
      "source": [
        "### Exercise 12: Create a 10x10 array with random values and find minimum and maximum number along axis 1"
      ]
    },
    {
      "cell_type": "code",
      "metadata": {
        "id": "UuACbe2jNb1b",
        "colab": {
          "base_uri": "https://localhost:8080/"
        },
        "outputId": "6443b74c-29df-4c45-97cf-f43fe7e677a0"
      },
      "source": [
        "#your code here\n",
        "\n",
        "array10D = np.random.randint(1000, size = (10,10))\n",
        "print(\"Random array: \\n\", array10D, \"\\n\")\n",
        "\n",
        "min_axis1 = np.min(array10D, axis = 1)\n",
        "print(\"Minimum numbers along axis 1: \\n\", min_axis1, \"\\n\")\n",
        "\n",
        "max_axis1 = np.max(array10D, axis = 1)\n",
        "print(\"Maximum numbers along axis 1: \\n\", max_axis1)"
      ],
      "execution_count": 16,
      "outputs": [
        {
          "output_type": "stream",
          "name": "stdout",
          "text": [
            "Random array: \n",
            " [[938 138 706 319 586 158 740 612 845 238]\n",
            " [488 539 980 889 639 519 483 952 871  61]\n",
            " [706 316 212  35 336 154 166 814 921 148]\n",
            " [118 551 352 100 596 722 694 201 174 228]\n",
            " [207 665 739 853 200 675  14 772 367  68]\n",
            " [404  81 822 719 890 995 176 513 236 873]\n",
            " [874 920  18 587  88 264 961 225 627 105]\n",
            " [ 26  94 961 800 224 186  48 715 646  49]\n",
            " [486 914 953 983 219  79 120 292 583 448]\n",
            " [544 195 703 364 313 218 207 858 548 846]] \n",
            "\n",
            "Minimum numbers along axis 1: \n",
            " [138  61  35 100  14  81  18  26  79 195] \n",
            "\n",
            "Maximum numbers along axis 1: \n",
            " [938 980 921 722 853 995 961 961 983 858]\n"
          ]
        }
      ]
    },
    {
      "cell_type": "markdown",
      "metadata": {
        "id": "ctj8hr3XWwBw"
      },
      "source": [
        "*italicized text*### Exercise 13: Create an array of the first 20 odd integers"
      ]
    },
    {
      "cell_type": "code",
      "metadata": {
        "id": "rbvkBuRdV558",
        "colab": {
          "base_uri": "https://localhost:8080/"
        },
        "outputId": "e6546029-2fbe-4e56-d4a6-54bc3c9f764c"
      },
      "source": [
        "### your code here\n",
        "\n",
        "odd_int_arr = np.arange(1, 41, 2)\n",
        "print(\"The following array holds the first\", len(odd_int_arr), \"odd integers:\", odd_int_arr)"
      ],
      "execution_count": 17,
      "outputs": [
        {
          "output_type": "stream",
          "name": "stdout",
          "text": [
            "The following array holds the first 20 odd integers: [ 1  3  5  7  9 11 13 15 17 19 21 23 25 27 29 31 33 35 37 39]\n"
          ]
        }
      ]
    },
    {
      "cell_type": "markdown",
      "metadata": {
        "id": "mOLKxH_SW3Fg"
      },
      "source": [
        "### Exercise 14: Create a 5x5 matrix with values 1,2,3,4 just below the diagonal"
      ]
    },
    {
      "cell_type": "code",
      "metadata": {
        "id": "JZ87PPEhW9OF",
        "colab": {
          "base_uri": "https://localhost:8080/"
        },
        "outputId": "01c7c1e6-c5bf-4256-ff07-a1a7eeb96b7d"
      },
      "source": [
        "### your code here\n",
        "\n",
        "diag5D_arr = np.diag([1, 2, 3, 4], k = -1)\n",
        "print(\"A 5x5 matrix with values 1, 2, 3, 4 just below the diagonal:\\n\", diag5D_arr)"
      ],
      "execution_count": 18,
      "outputs": [
        {
          "output_type": "stream",
          "name": "stdout",
          "text": [
            "A 5x5 matrix with values 1, 2, 3, 4 just below the diagonal:\n",
            " [[0 0 0 0 0]\n",
            " [1 0 0 0 0]\n",
            " [0 2 0 0 0]\n",
            " [0 0 3 0 0]\n",
            " [0 0 0 4 0]]\n"
          ]
        }
      ]
    },
    {
      "cell_type": "markdown",
      "metadata": {
        "id": "kph14lD5XBcm"
      },
      "source": [
        "### Exercise 15: 2x+3y=13 3x+y=9 find the value of x and y."
      ]
    },
    {
      "cell_type": "code",
      "metadata": {
        "id": "ZnQk4qTuXEtU",
        "colab": {
          "base_uri": "https://localhost:8080/"
        },
        "outputId": "02e74bc7-8b68-4115-9864-2e73225e6a6f"
      },
      "source": [
        "### your code here\n",
        "\n",
        "import sympy as sym\n",
        "x = sym.Symbol(\"x\")\n",
        "y = sym.Symbol(\"y\")\n",
        "\n",
        "solution = sym.solve((x*2 + y*3 - 13, x*3 + y - 9), (x, y))\n",
        "solution[x], solution[y]"
      ],
      "execution_count": 19,
      "outputs": [
        {
          "output_type": "execute_result",
          "data": {
            "text/plain": [
              "(2, 3)"
            ]
          },
          "metadata": {},
          "execution_count": 19
        }
      ]
    },
    {
      "cell_type": "markdown",
      "metadata": {
        "id": "gnphYGYn5Y9R"
      },
      "source": [
        "Alternative:"
      ]
    },
    {
      "cell_type": "code",
      "metadata": {
        "id": "Nci7QKra5YTc",
        "colab": {
          "base_uri": "https://localhost:8080/"
        },
        "outputId": "0005b6a6-e3b7-447c-d8af-a68ba25a6e29"
      },
      "source": [
        "x = np.array([[2,3], [3,1]])\n",
        "y = np.array([13, 9])\n",
        "sol = np.linalg.solve(x, y)\n",
        "print(list(sol))"
      ],
      "execution_count": 20,
      "outputs": [
        {
          "output_type": "stream",
          "name": "stdout",
          "text": [
            "[2.0, 3.0]\n"
          ]
        }
      ]
    },
    {
      "cell_type": "markdown",
      "metadata": {
        "id": "4mY7BD0PXH5y"
      },
      "source": [
        "### Exercise 16: Compute $e^x$, element-wise for a sample array"
      ]
    },
    {
      "cell_type": "code",
      "metadata": {
        "id": "5qCVqKKrXM8j",
        "colab": {
          "base_uri": "https://localhost:8080/"
        },
        "outputId": "254d1089-edee-4b80-c859-a3b9c1fa2d79"
      },
      "source": [
        "### your code here\n",
        "example_arr = np.array([1, 4, 9, 16])\n",
        "answers = np.exp(example_arr)\n",
        "answers"
      ],
      "execution_count": 25,
      "outputs": [
        {
          "output_type": "execute_result",
          "data": {
            "text/plain": [
              "array([2.71828183e+00, 5.45981500e+01, 8.10308393e+03, 8.88611052e+06])"
            ]
          },
          "metadata": {},
          "execution_count": 25
        }
      ]
    }
  ]
}